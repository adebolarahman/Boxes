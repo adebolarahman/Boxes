{
  "nbformat": 4,
  "nbformat_minor": 0,
  "metadata": {
    "colab": {
      "name": "Adeleye12.ipynb",
      "provenance": [],
      "authorship_tag": "ABX9TyOYtZURsiRfrov3vCPRgzug",
      "include_colab_link": true
    },
    "kernelspec": {
      "name": "python3",
      "display_name": "Python 3"
    },
    "language_info": {
      "name": "python"
    }
  },
  "cells": [
    {
      "cell_type": "markdown",
      "metadata": {
        "id": "view-in-github",
        "colab_type": "text"
      },
      "source": [
        "<a href=\"https://colab.research.google.com/github/adebolarahman17/Boxes/blob/main/Adeleye12.ipynb\" target=\"_parent\"><img src=\"https://colab.research.google.com/assets/colab-badge.svg\" alt=\"Open In Colab\"/></a>"
      ]
    },
    {
      "cell_type": "code",
      "execution_count": 1,
      "metadata": {
        "id": "iZd_IBmba4ym",
        "colab": {
          "base_uri": "https://localhost:8080/"
        },
        "outputId": "7d41ff46-d99d-41da-9768-ce5ef3b52ced"
      },
      "outputs": [
        {
          "output_type": "stream",
          "name": "stdout",
          "text": [
            "Import Done!\n"
          ]
        }
      ],
      "source": [
        "import pandas as pd\n",
        "from datetime import datetime, timedelta\n",
        "import numpy as np\n",
        "from matplotlib.pyplot import pie, axis, show\n",
        "import matplotlib.pyplot as plt\n",
        "import seaborn as sns\n",
        "from dateutil.relativedelta import relativedelta\n",
        "from datetime import datetime\n",
        "from datetime import date\n",
        "from sklearn.preprocessing import LabelEncoder, StandardScaler\n",
        "print(\"Import Done!\")"
      ]
    },
    {
      "cell_type": "code",
      "source": [
        "def read_flat_file(file):\n",
        "    dfs = pd.read_csv(file)\n",
        "    return dfs\n",
        "data=read_flat_file('/code_review_data_worksample_2022.csv')"
      ],
      "metadata": {
        "id": "nhXZToA2DzFb"
      },
      "execution_count": 2,
      "outputs": []
    },
    {
      "cell_type": "code",
      "source": [
        "data.head()"
      ],
      "metadata": {
        "colab": {
          "base_uri": "https://localhost:8080/",
          "height": 374
        },
        "id": "8jzGK4RkSYOP",
        "outputId": "947dce9b-d1fd-4857-b860-1fd131575283"
      },
      "execution_count": 3,
      "outputs": [
        {
          "output_type": "execute_result",
          "data": {
            "text/plain": [
              "   Unnamed: 0 id_enterprise  id_pullrequest         ts_creation_date  \\\n",
              "0           0  0101-Ent-OSS          247466  2020-12-05 10:46:52.000   \n",
              "1           1  0101-Ent-OSS          247466  2020-12-05 10:46:52.000   \n",
              "2           2  0101-Ent-OSS          247466  2020-12-05 10:46:52.000   \n",
              "3           3  0101-Ent-OSS          247466  2020-12-05 10:46:52.000   \n",
              "4           4  0101-Ent-OSS          247466  2020-12-05 10:46:52.000   \n",
              "\n",
              "               ts_end_date  nu_state  id_source_repo  id_dest_repo  \\\n",
              "0  2020-12-08 21:22:19.000         3           13616       13614.0   \n",
              "1  2020-12-08 21:22:19.000         3           13616       13614.0   \n",
              "2  2020-12-08 21:22:19.000         3           13616       13614.0   \n",
              "3  2020-12-08 21:22:19.000         3           13616       13614.0   \n",
              "4  2020-12-08 21:22:19.000         3           13616       13614.0   \n",
              "\n",
              "   id_creator  id_reviewer  id_activity        ts_date_performed  \\\n",
              "0   1006807.0    1006802.0    5481356.0  2020-12-08 21:04:57.000   \n",
              "1   1006807.0    1006802.0    5481360.0  2020-12-22 00:25:45.000   \n",
              "2   1006807.0    1006802.0    5481359.0  2020-12-08 21:22:19.000   \n",
              "3   1006807.0    1006802.0    5481358.0  2020-12-08 21:22:19.000   \n",
              "4   1006807.0    1006802.0    5481357.0  2020-12-08 21:22:18.000   \n",
              "\n",
              "   id_performed_by tx_activity_type  \n",
              "0        1006802.0         reviewed  \n",
              "1        1006805.0       referenced  \n",
              "2        1006808.0           closed  \n",
              "3        1006808.0           merged  \n",
              "4        1006808.0       referenced  "
            ],
            "text/html": [
              "\n",
              "  <div id=\"df-211d2d0f-c34b-421e-9c40-8a8106164b37\">\n",
              "    <div class=\"colab-df-container\">\n",
              "      <div>\n",
              "<style scoped>\n",
              "    .dataframe tbody tr th:only-of-type {\n",
              "        vertical-align: middle;\n",
              "    }\n",
              "\n",
              "    .dataframe tbody tr th {\n",
              "        vertical-align: top;\n",
              "    }\n",
              "\n",
              "    .dataframe thead th {\n",
              "        text-align: right;\n",
              "    }\n",
              "</style>\n",
              "<table border=\"1\" class=\"dataframe\">\n",
              "  <thead>\n",
              "    <tr style=\"text-align: right;\">\n",
              "      <th></th>\n",
              "      <th>Unnamed: 0</th>\n",
              "      <th>id_enterprise</th>\n",
              "      <th>id_pullrequest</th>\n",
              "      <th>ts_creation_date</th>\n",
              "      <th>ts_end_date</th>\n",
              "      <th>nu_state</th>\n",
              "      <th>id_source_repo</th>\n",
              "      <th>id_dest_repo</th>\n",
              "      <th>id_creator</th>\n",
              "      <th>id_reviewer</th>\n",
              "      <th>id_activity</th>\n",
              "      <th>ts_date_performed</th>\n",
              "      <th>id_performed_by</th>\n",
              "      <th>tx_activity_type</th>\n",
              "    </tr>\n",
              "  </thead>\n",
              "  <tbody>\n",
              "    <tr>\n",
              "      <th>0</th>\n",
              "      <td>0</td>\n",
              "      <td>0101-Ent-OSS</td>\n",
              "      <td>247466</td>\n",
              "      <td>2020-12-05 10:46:52.000</td>\n",
              "      <td>2020-12-08 21:22:19.000</td>\n",
              "      <td>3</td>\n",
              "      <td>13616</td>\n",
              "      <td>13614.0</td>\n",
              "      <td>1006807.0</td>\n",
              "      <td>1006802.0</td>\n",
              "      <td>5481356.0</td>\n",
              "      <td>2020-12-08 21:04:57.000</td>\n",
              "      <td>1006802.0</td>\n",
              "      <td>reviewed</td>\n",
              "    </tr>\n",
              "    <tr>\n",
              "      <th>1</th>\n",
              "      <td>1</td>\n",
              "      <td>0101-Ent-OSS</td>\n",
              "      <td>247466</td>\n",
              "      <td>2020-12-05 10:46:52.000</td>\n",
              "      <td>2020-12-08 21:22:19.000</td>\n",
              "      <td>3</td>\n",
              "      <td>13616</td>\n",
              "      <td>13614.0</td>\n",
              "      <td>1006807.0</td>\n",
              "      <td>1006802.0</td>\n",
              "      <td>5481360.0</td>\n",
              "      <td>2020-12-22 00:25:45.000</td>\n",
              "      <td>1006805.0</td>\n",
              "      <td>referenced</td>\n",
              "    </tr>\n",
              "    <tr>\n",
              "      <th>2</th>\n",
              "      <td>2</td>\n",
              "      <td>0101-Ent-OSS</td>\n",
              "      <td>247466</td>\n",
              "      <td>2020-12-05 10:46:52.000</td>\n",
              "      <td>2020-12-08 21:22:19.000</td>\n",
              "      <td>3</td>\n",
              "      <td>13616</td>\n",
              "      <td>13614.0</td>\n",
              "      <td>1006807.0</td>\n",
              "      <td>1006802.0</td>\n",
              "      <td>5481359.0</td>\n",
              "      <td>2020-12-08 21:22:19.000</td>\n",
              "      <td>1006808.0</td>\n",
              "      <td>closed</td>\n",
              "    </tr>\n",
              "    <tr>\n",
              "      <th>3</th>\n",
              "      <td>3</td>\n",
              "      <td>0101-Ent-OSS</td>\n",
              "      <td>247466</td>\n",
              "      <td>2020-12-05 10:46:52.000</td>\n",
              "      <td>2020-12-08 21:22:19.000</td>\n",
              "      <td>3</td>\n",
              "      <td>13616</td>\n",
              "      <td>13614.0</td>\n",
              "      <td>1006807.0</td>\n",
              "      <td>1006802.0</td>\n",
              "      <td>5481358.0</td>\n",
              "      <td>2020-12-08 21:22:19.000</td>\n",
              "      <td>1006808.0</td>\n",
              "      <td>merged</td>\n",
              "    </tr>\n",
              "    <tr>\n",
              "      <th>4</th>\n",
              "      <td>4</td>\n",
              "      <td>0101-Ent-OSS</td>\n",
              "      <td>247466</td>\n",
              "      <td>2020-12-05 10:46:52.000</td>\n",
              "      <td>2020-12-08 21:22:19.000</td>\n",
              "      <td>3</td>\n",
              "      <td>13616</td>\n",
              "      <td>13614.0</td>\n",
              "      <td>1006807.0</td>\n",
              "      <td>1006802.0</td>\n",
              "      <td>5481357.0</td>\n",
              "      <td>2020-12-08 21:22:18.000</td>\n",
              "      <td>1006808.0</td>\n",
              "      <td>referenced</td>\n",
              "    </tr>\n",
              "  </tbody>\n",
              "</table>\n",
              "</div>\n",
              "      <button class=\"colab-df-convert\" onclick=\"convertToInteractive('df-211d2d0f-c34b-421e-9c40-8a8106164b37')\"\n",
              "              title=\"Convert this dataframe to an interactive table.\"\n",
              "              style=\"display:none;\">\n",
              "        \n",
              "  <svg xmlns=\"http://www.w3.org/2000/svg\" height=\"24px\"viewBox=\"0 0 24 24\"\n",
              "       width=\"24px\">\n",
              "    <path d=\"M0 0h24v24H0V0z\" fill=\"none\"/>\n",
              "    <path d=\"M18.56 5.44l.94 2.06.94-2.06 2.06-.94-2.06-.94-.94-2.06-.94 2.06-2.06.94zm-11 1L8.5 8.5l.94-2.06 2.06-.94-2.06-.94L8.5 2.5l-.94 2.06-2.06.94zm10 10l.94 2.06.94-2.06 2.06-.94-2.06-.94-.94-2.06-.94 2.06-2.06.94z\"/><path d=\"M17.41 7.96l-1.37-1.37c-.4-.4-.92-.59-1.43-.59-.52 0-1.04.2-1.43.59L10.3 9.45l-7.72 7.72c-.78.78-.78 2.05 0 2.83L4 21.41c.39.39.9.59 1.41.59.51 0 1.02-.2 1.41-.59l7.78-7.78 2.81-2.81c.8-.78.8-2.07 0-2.86zM5.41 20L4 18.59l7.72-7.72 1.47 1.35L5.41 20z\"/>\n",
              "  </svg>\n",
              "      </button>\n",
              "      \n",
              "  <style>\n",
              "    .colab-df-container {\n",
              "      display:flex;\n",
              "      flex-wrap:wrap;\n",
              "      gap: 12px;\n",
              "    }\n",
              "\n",
              "    .colab-df-convert {\n",
              "      background-color: #E8F0FE;\n",
              "      border: none;\n",
              "      border-radius: 50%;\n",
              "      cursor: pointer;\n",
              "      display: none;\n",
              "      fill: #1967D2;\n",
              "      height: 32px;\n",
              "      padding: 0 0 0 0;\n",
              "      width: 32px;\n",
              "    }\n",
              "\n",
              "    .colab-df-convert:hover {\n",
              "      background-color: #E2EBFA;\n",
              "      box-shadow: 0px 1px 2px rgba(60, 64, 67, 0.3), 0px 1px 3px 1px rgba(60, 64, 67, 0.15);\n",
              "      fill: #174EA6;\n",
              "    }\n",
              "\n",
              "    [theme=dark] .colab-df-convert {\n",
              "      background-color: #3B4455;\n",
              "      fill: #D2E3FC;\n",
              "    }\n",
              "\n",
              "    [theme=dark] .colab-df-convert:hover {\n",
              "      background-color: #434B5C;\n",
              "      box-shadow: 0px 1px 3px 1px rgba(0, 0, 0, 0.15);\n",
              "      filter: drop-shadow(0px 1px 2px rgba(0, 0, 0, 0.3));\n",
              "      fill: #FFFFFF;\n",
              "    }\n",
              "  </style>\n",
              "\n",
              "      <script>\n",
              "        const buttonEl =\n",
              "          document.querySelector('#df-211d2d0f-c34b-421e-9c40-8a8106164b37 button.colab-df-convert');\n",
              "        buttonEl.style.display =\n",
              "          google.colab.kernel.accessAllowed ? 'block' : 'none';\n",
              "\n",
              "        async function convertToInteractive(key) {\n",
              "          const element = document.querySelector('#df-211d2d0f-c34b-421e-9c40-8a8106164b37');\n",
              "          const dataTable =\n",
              "            await google.colab.kernel.invokeFunction('convertToInteractive',\n",
              "                                                     [key], {});\n",
              "          if (!dataTable) return;\n",
              "\n",
              "          const docLinkHtml = 'Like what you see? Visit the ' +\n",
              "            '<a target=\"_blank\" href=https://colab.research.google.com/notebooks/data_table.ipynb>data table notebook</a>'\n",
              "            + ' to learn more about interactive tables.';\n",
              "          element.innerHTML = '';\n",
              "          dataTable['output_type'] = 'display_data';\n",
              "          await google.colab.output.renderOutput(dataTable, element);\n",
              "          const docLink = document.createElement('div');\n",
              "          docLink.innerHTML = docLinkHtml;\n",
              "          element.appendChild(docLink);\n",
              "        }\n",
              "      </script>\n",
              "    </div>\n",
              "  </div>\n",
              "  "
            ]
          },
          "metadata": {},
          "execution_count": 3
        }
      ]
    },
    {
      "cell_type": "code",
      "source": [
        "data.shape"
      ],
      "metadata": {
        "colab": {
          "base_uri": "https://localhost:8080/"
        },
        "id": "lPuzXLQFSb7F",
        "outputId": "4860bfbe-cf8c-435c-bef4-d95c58829acb"
      },
      "execution_count": 4,
      "outputs": [
        {
          "output_type": "execute_result",
          "data": {
            "text/plain": [
              "(2009659, 14)"
            ]
          },
          "metadata": {},
          "execution_count": 4
        }
      ]
    },
    {
      "cell_type": "code",
      "source": [
        "data.nunique()"
      ],
      "metadata": {
        "colab": {
          "base_uri": "https://localhost:8080/"
        },
        "id": "6a7BWmzDSqfp",
        "outputId": "c116dfa6-9978-4761-df31-95e06ec620a3"
      },
      "execution_count": 5,
      "outputs": [
        {
          "output_type": "execute_result",
          "data": {
            "text/plain": [
              "Unnamed: 0           2009659\n",
              "id_enterprise              1\n",
              "id_pullrequest         14405\n",
              "ts_creation_date       14393\n",
              "ts_end_date            13677\n",
              "nu_state                   3\n",
              "id_source_repo          2702\n",
              "id_dest_repo              12\n",
              "id_creator              2927\n",
              "id_reviewer             2392\n",
              "id_activity           746494\n",
              "ts_date_performed     480652\n",
              "id_performed_by         8645\n",
              "tx_activity_type          49\n",
              "dtype: int64"
            ]
          },
          "metadata": {},
          "execution_count": 5
        }
      ]
    },
    {
      "cell_type": "code",
      "source": [
        ""
      ],
      "metadata": {
        "id": "OTiOE1xyTcNH"
      },
      "execution_count": null,
      "outputs": []
    }
  ]
}